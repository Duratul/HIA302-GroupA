{
 "cells": [
  {
   "cell_type": "code",
   "execution_count": null,
   "id": "b1883931",
   "metadata": {
    "scrolled": true
   },
   "outputs": [],
   "source": [
    "#load cases_malaysia and holiday dataset CSV file using Pandas\n",
    "#use head function to view the first 5 dataset values\n",
    "\n",
    "import pandas as pd\n",
    "df = pd.read_csv(r'C:\\Users\\Acer\\Desktop\\group_project302\\cases_malaysia.csv')\n",
    "df.head()\n",
    "\n",
    "df1 = pd.read_csv(r'C:\\Users\\Acer\\Desktop\\group_project302\\holiday.csv')\n",
    "df1.head()\n",
    "\n",
    "print(df)\n",
    "print(df1)\n"
   ]
  },
  {
   "cell_type": "code",
   "execution_count": null,
   "id": "6a25f2c2",
   "metadata": {
    "scrolled": true
   },
   "outputs": [],
   "source": [
    "#select columns for cases_malaysia data which are 'date' and 'cases_new'.\n",
    "df = df[['date', 'cases_new']]\n",
    "#convert the 'date' to datetime64.\n",
    "df['date'] = pd.to_datetime(df['date'],format = '%Y-%m-%d')\n",
    "#filter the data between 2 dates (from 2022-08-01 until 2022-11-30)\n",
    "filtered_df = df.loc[(df['date'] >= '2022-08-01')\n",
    "                   & (df['date'] < '2022-12-01')]\n",
    "\n",
    "#select columns for holiday data which are 'date' and 'holiday'.\n",
    "df1 = df1[['date', 'holiday']]\n",
    "#convert the 'date' to datetime64.\n",
    "df1['date'] = pd.to_datetime(df1['date'],format = '%Y-%m-%d')\n",
    "#filter the data between 2 dates (from 2022-08-01 until 2022-11-30)\n",
    "filtered_df1 = df1.loc[(df1['date'] >= '2022-08-01')\n",
    "                   & (df1['date'] < '2022-12-01')]\n",
    "\n",
    "print(filtered_df)\n",
    "print(filtered_df1)"
   ]
  },
  {
   "cell_type": "code",
   "execution_count": null,
   "id": "e3059ca9",
   "metadata": {},
   "outputs": [],
   "source": [
    "#to review the shape and size of both dataframes.\n",
    "print(df.shape)\n",
    "print(df1.shape)"
   ]
  },
  {
   "cell_type": "code",
   "execution_count": null,
   "id": "d27131b9",
   "metadata": {
    "scrolled": true
   },
   "outputs": [],
   "source": [
    "#to list the data types used by both dataframes to characterize each attribute. \n",
    "print(df.dtypes)\n",
    "print(df1.dtypes)"
   ]
  },
  {
   "cell_type": "code",
   "execution_count": null,
   "id": "242500ad",
   "metadata": {
    "scrolled": true
   },
   "outputs": [],
   "source": [
    "#to show the descriptive analysis of cases_malaysia dataframe.\n",
    "print(df.describe())\n"
   ]
  },
  {
   "cell_type": "code",
   "execution_count": null,
   "id": "9cbf9391",
   "metadata": {
    "scrolled": true
   },
   "outputs": [],
   "source": [
    "#to check for missing values in each columns of the cases_malaysia dataframe\n",
    "missing_data = df.isnull().mean()*100\n",
    "missing_data.sort_values(ascending=False)\n"
   ]
  },
  {
   "cell_type": "code",
   "execution_count": null,
   "id": "f4a844aa",
   "metadata": {},
   "outputs": [],
   "source": [
    "#to check for missing values in each columns of the holiday dataframe.\n",
    "missing_data = df1.isnull().mean()*100\n",
    "missing_data.sort_values(ascending=False)"
   ]
  },
  {
   "cell_type": "code",
   "execution_count": null,
   "id": "ea4a9fa3",
   "metadata": {
    "scrolled": false
   },
   "outputs": [],
   "source": [
    "#merge 2 dataframes (cases_malaysia and holiday) with the same index_column.\n",
    "inner_merged = pd.merge(filtered_df1, filtered_df)\n",
    "print(inner_merged)"
   ]
  },
  {
   "cell_type": "code",
   "execution_count": null,
   "id": "508f1229",
   "metadata": {},
   "outputs": [],
   "source": [
    "#to review the shape and size of the inner_merged dataframe.\n",
    "print(inner_merged.shape)"
   ]
  },
  {
   "cell_type": "code",
   "execution_count": null,
   "id": "ca2ba925",
   "metadata": {},
   "outputs": [],
   "source": [
    "#to list the data types used by the dataframe to characterize each attribute. \n",
    "print(inner_merged.dtypes)"
   ]
  },
  {
   "cell_type": "code",
   "execution_count": null,
   "id": "2f4c00ed",
   "metadata": {},
   "outputs": [],
   "source": [
    "#to show the descriptive analysis of the dataframe.\n",
    "print(inner_merged.describe())"
   ]
  },
  {
   "cell_type": "code",
   "execution_count": null,
   "id": "b1229870",
   "metadata": {},
   "outputs": [],
   "source": [
    "#to check for missing values in each columns.\n",
    "missing_data = inner_merged.isnull().mean()*100\n",
    "missing_data.sort_values(ascending=False)"
   ]
  },
  {
   "cell_type": "code",
   "execution_count": null,
   "id": "dcbcd681",
   "metadata": {},
   "outputs": [],
   "source": [
    "#import required modules\n",
    "import altair as alt\n",
    "\n",
    "alt.Chart(inner_merged).mark_bar().encode(\n",
    "    x = 'date',\n",
    "    y = 'cases_new',\n",
    "    #tooltip is to display x and y variables associated \"date\" and \"cases_new\" respectively, and also 'holiday' to show the differences.\n",
    "    tooltip=['date','holiday','cases_new'],\n",
    "    color='holiday'\n",
    ").properties(width=800)"
   ]
  },
  {
   "cell_type": "code",
   "execution_count": null,
   "id": "0a2ea14c",
   "metadata": {},
   "outputs": [],
   "source": [
    "import pandas as pd\n",
    "df2 = pd.read_csv(r'C:\\Users\\Acer\\Desktop\\group_project302\\collected_covid_daily_cases.csv')\n",
    "df2.head()\n",
    "print(df2)"
   ]
  },
  {
   "cell_type": "code",
   "execution_count": null,
   "id": "3e91ae60",
   "metadata": {},
   "outputs": [],
   "source": [
    "print(df2.shape)"
   ]
  },
  {
   "cell_type": "code",
   "execution_count": null,
   "id": "6b862aa2",
   "metadata": {},
   "outputs": [],
   "source": [
    "print(df2.dtypes)"
   ]
  },
  {
   "cell_type": "code",
   "execution_count": null,
   "id": "a8b0299d",
   "metadata": {},
   "outputs": [],
   "source": [
    "print(df2.describe())"
   ]
  },
  {
   "cell_type": "code",
   "execution_count": null,
   "id": "a33b39cd",
   "metadata": {},
   "outputs": [],
   "source": [
    "missing_data = df2.isnull().mean()*100\n",
    "missing_data.sort_values(ascending=False)"
   ]
  },
  {
   "cell_type": "code",
   "execution_count": null,
   "id": "309520e3",
   "metadata": {},
   "outputs": [],
   "source": [
    "import altair as alt\n",
    "\n",
    "alt.Chart(df2).mark_bar().encode(\n",
    "    x = 'date',\n",
    "    y = 'malaysia_cases_new',\n",
    "    tooltip=['date','holiday','malaysia_cases_new'],\n",
    "    color='holiday'\n",
    ").properties(width=1000)"
   ]
  },
  {
   "cell_type": "code",
   "execution_count": null,
   "id": "4a4124df",
   "metadata": {},
   "outputs": [],
   "source": []
  },
  {
   "cell_type": "code",
   "execution_count": null,
   "id": "0ab31d4c",
   "metadata": {},
   "outputs": [],
   "source": []
  }
 ],
 "metadata": {
  "kernelspec": {
   "display_name": "Python 3 (ipykernel)",
   "language": "python",
   "name": "python3"
  },
  "language_info": {
   "codemirror_mode": {
    "name": "ipython",
    "version": 3
   },
   "file_extension": ".py",
   "mimetype": "text/x-python",
   "name": "python",
   "nbconvert_exporter": "python",
   "pygments_lexer": "ipython3",
   "version": "3.9.13"
  }
 },
 "nbformat": 4,
 "nbformat_minor": 5
}
