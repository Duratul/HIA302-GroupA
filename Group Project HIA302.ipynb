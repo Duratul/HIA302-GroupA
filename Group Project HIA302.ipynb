{
 "cells": [
  {
   "cell_type": "code",
   "execution_count": 4,
   "id": "b1883931",
   "metadata": {
    "scrolled": true
   },
   "outputs": [
    {
     "name": "stdout",
     "output_type": "stream",
     "text": [
      "            date  cases_new  cases_import  cases_recovered  cases_active  \\\n",
      "0     2020-01-25          4             4                0             4   \n",
      "1     2020-01-26          0             0                0             4   \n",
      "2     2020-01-27          0             0                0             4   \n",
      "3     2020-01-28          0             0                0             4   \n",
      "4     2020-01-29          3             3                0             7   \n",
      "...          ...        ...           ...              ...           ...   \n",
      "1039  2022-11-29       1672             1             2722         26578   \n",
      "1040  2022-11-30       1737             1             3338         24960   \n",
      "1041  2022-12-01       2375             4             2857         24467   \n",
      "1042  2022-12-02       2421             2             2826         24053   \n",
      "1043  2022-12-03       1866             6             2814         23099   \n",
      "\n",
      "      cases_cluster  cases_unvax  cases_pvax  cases_fvax  cases_boost  ...  \\\n",
      "0                 0            4           0           0            0  ...   \n",
      "1                 0            0           0           0            0  ...   \n",
      "2                 0            0           0           0            0  ...   \n",
      "3                 0            0           0           0            0  ...   \n",
      "4                 0            3           0           0            0  ...   \n",
      "...             ...          ...         ...         ...          ...  ...   \n",
      "1039              4          174           7         352         1139  ...   \n",
      "1040              0          197          11         399         1130  ...   \n",
      "1041            106          264           8         641         1462  ...   \n",
      "1042              7          241          10         544         1626  ...   \n",
      "1043              4          181          12         389         1284  ...   \n",
      "\n",
      "      cases_60_69  cases_70_79  cases_80  cluster_import  cluster_religious  \\\n",
      "0               0            0         0             NaN                NaN   \n",
      "1               0            0         0             NaN                NaN   \n",
      "2               0            0         0             NaN                NaN   \n",
      "3               0            0         0             NaN                NaN   \n",
      "4               0            0         0             NaN                NaN   \n",
      "...           ...          ...       ...             ...                ...   \n",
      "1039          103           59        68             0.0                0.0   \n",
      "1040          141           85        86             0.0                0.0   \n",
      "1041          138          116        86             0.0                0.0   \n",
      "1042          136          108        90             0.0                0.0   \n",
      "1043           94           84        79             0.0                0.0   \n",
      "\n",
      "      cluster_community  cluster_highRisk  cluster_education  \\\n",
      "0                   NaN               NaN                NaN   \n",
      "1                   NaN               NaN                NaN   \n",
      "2                   NaN               NaN                NaN   \n",
      "3                   NaN               NaN                NaN   \n",
      "4                   NaN               NaN                NaN   \n",
      "...                 ...               ...                ...   \n",
      "1039                0.0               0.0                4.0   \n",
      "1040                0.0               0.0                0.0   \n",
      "1041                0.0              10.0               96.0   \n",
      "1042                0.0               0.0                7.0   \n",
      "1043                0.0               0.0                4.0   \n",
      "\n",
      "      cluster_detentionCentre  cluster_workplace  \n",
      "0                         NaN                NaN  \n",
      "1                         NaN                NaN  \n",
      "2                         NaN                NaN  \n",
      "3                         NaN                NaN  \n",
      "4                         NaN                NaN  \n",
      "...                       ...                ...  \n",
      "1039                      0.0                0.0  \n",
      "1040                      0.0                0.0  \n",
      "1041                      0.0                0.0  \n",
      "1042                      0.0                0.0  \n",
      "1043                      0.0                0.0  \n",
      "\n",
      "[1044 rows x 31 columns]\n",
      "            date      holiday  malaysia_cases_new              state  \\\n",
      "0     2022-08-01  non-holiday                3213              Johor   \n",
      "1     2022-08-01  non-holiday                3213              Kedah   \n",
      "2     2022-08-01  non-holiday                3213           Kelantan   \n",
      "3     2022-08-01  non-holiday                3213             Melaka   \n",
      "4     2022-08-01  non-holiday                3213    Negeri Sembilan   \n",
      "...          ...          ...                 ...                ...   \n",
      "1947  2022-11-30  non-holiday                1737           Selangor   \n",
      "1948  2022-11-30  non-holiday                1737         Terengganu   \n",
      "1949  2022-11-30  non-holiday                1737  W.P. Kuala Lumpur   \n",
      "1950  2022-11-30  non-holiday                1737        W.P. Labuan   \n",
      "1951  2022-11-30  non-holiday                1737     W.P. Putrajaya   \n",
      "\n",
      "      state_cases_new  admitted_covid  icu_covid  \n",
      "0                 114              41          4  \n",
      "1                 130              26          8  \n",
      "2                  42               6          2  \n",
      "3                  90              14          2  \n",
      "4                 153              14          2  \n",
      "...               ...             ...        ...  \n",
      "1947              367             100         11  \n",
      "1948               57              19          5  \n",
      "1949              193              25          0  \n",
      "1950               24               2          0  \n",
      "1951               19               9          0  \n",
      "\n",
      "[1952 rows x 7 columns]\n"
     ]
    }
   ],
   "source": [
    "#load cases_malaysia and holiday dataset CSV file using Pandas\n",
    "#use head function to view the first 5 dataset values\n",
    "\n",
    "import pandas as pd\n",
    "df = pd.read_csv('cases_malaysia.csv')\n",
    "df.head()\n",
    "\n",
    "df1 = pd.read_csv('collected_covid_daily_cases.csv')\n",
    "df1.head()\n",
    "\n",
    "print(df)\n",
    "print(df1)\n"
   ]
  },
  {
   "cell_type": "code",
   "execution_count": null,
   "id": "6a25f2c2",
   "metadata": {
    "scrolled": true
   },
   "outputs": [],
   "source": [
    "#select columns for cases_malaysia data which are 'date' and 'cases_new'.\n",
    "df = df[['date', 'cases_new']]\n",
    "#convert the 'date' to datetime64.\n",
    "df['date'] = pd.to_datetime(df['date'],format = '%Y-%m-%d')\n",
    "#filter the data between 2 dates (from 2022-08-01 until 2022-11-30)\n",
    "filtered_df = df.loc[(df['date'] >= '2022-08-01')\n",
    "                   & (df['date'] < '2022-12-01')]\n",
    "\n",
    "#select columns for holiday data which are 'date' and 'holiday'.\n",
    "df1 = df1[['date', 'holiday']]\n",
    "#convert the 'date' to datetime64.\n",
    "df1['date'] = pd.to_datetime(df1['date'],format = '%Y-%m-%d')\n",
    "#filter the data between 2 dates (from 2022-08-01 until 2022-11-30)\n",
    "filtered_df1 = df1.loc[(df1['date'] >= '2022-08-01')\n",
    "                   & (df1['date'] < '2022-12-01')]\n",
    "\n",
    "print(filtered_df)\n",
    "print(filtered_df1)"
   ]
  },
  {
   "cell_type": "code",
   "execution_count": null,
   "id": "e3059ca9",
   "metadata": {},
   "outputs": [],
   "source": [
    "#to review the shape and size of both dataframes.\n",
    "print(df.shape)\n",
    "print(df1.shape)"
   ]
  },
  {
   "cell_type": "code",
   "execution_count": null,
   "id": "d27131b9",
   "metadata": {
    "scrolled": true
   },
   "outputs": [],
   "source": [
    "#to list the data types used by both dataframes to characterize each attribute. \n",
    "print(df.dtypes)\n",
    "print(df1.dtypes)"
   ]
  },
  {
   "cell_type": "code",
   "execution_count": null,
   "id": "242500ad",
   "metadata": {
    "scrolled": true
   },
   "outputs": [],
   "source": [
    "#to show the descriptive analysis of cases_malaysia dataframe.\n",
    "print(df.describe())\n"
   ]
  },
  {
   "cell_type": "code",
   "execution_count": null,
   "id": "9cbf9391",
   "metadata": {
    "scrolled": true
   },
   "outputs": [],
   "source": [
    "#to check for missing values in each columns of the cases_malaysia dataframe\n",
    "missing_data = df.isnull().mean()*100\n",
    "missing_data.sort_values(ascending=False)\n"
   ]
  },
  {
   "cell_type": "code",
   "execution_count": null,
   "id": "f4a844aa",
   "metadata": {},
   "outputs": [],
   "source": [
    "#to check for missing values in each columns of the holiday dataframe.\n",
    "missing_data = df1.isnull().mean()*100\n",
    "missing_data.sort_values(ascending=False)"
   ]
  },
  {
   "cell_type": "code",
   "execution_count": null,
   "id": "ea4a9fa3",
   "metadata": {
    "scrolled": false
   },
   "outputs": [],
   "source": [
    "#merge 2 dataframes (cases_malaysia and holiday) with the same index_column.\n",
    "inner_merged = pd.merge(filtered_df1, filtered_df)\n",
    "print(inner_merged)"
   ]
  },
  {
   "cell_type": "code",
   "execution_count": null,
   "id": "508f1229",
   "metadata": {},
   "outputs": [],
   "source": [
    "#to review the shape and size of the inner_merged dataframe.\n",
    "print(inner_merged.shape)"
   ]
  },
  {
   "cell_type": "code",
   "execution_count": null,
   "id": "ca2ba925",
   "metadata": {},
   "outputs": [],
   "source": [
    "#to list the data types used by the dataframe to characterize each attribute. \n",
    "print(inner_merged.dtypes)"
   ]
  },
  {
   "cell_type": "code",
   "execution_count": null,
   "id": "2f4c00ed",
   "metadata": {},
   "outputs": [],
   "source": [
    "#to show the descriptive analysis of the dataframe.\n",
    "print(inner_merged.describe())"
   ]
  },
  {
   "cell_type": "code",
   "execution_count": null,
   "id": "b1229870",
   "metadata": {},
   "outputs": [],
   "source": [
    "#to check for missing values in each columns.\n",
    "missing_data = inner_merged.isnull().mean()*100\n",
    "missing_data.sort_values(ascending=False)"
   ]
  },
  {
   "cell_type": "code",
   "execution_count": null,
   "id": "dcbcd681",
   "metadata": {},
   "outputs": [],
   "source": [
    "#import required modules\n",
    "import altair as alt\n",
    "\n",
    "alt.Chart(inner_merged).mark_bar().encode(\n",
    "    x = 'date',\n",
    "    y = 'cases_new',\n",
    "    #tooltip is to display x and y variables associated \"date\" and \"cases_new\" respectively, and also 'holiday' to show the differences.\n",
    "    tooltip=['date','holiday','cases_new'],\n",
    "    color='holiday'\n",
    ").properties(width=800)"
   ]
  },
  {
   "cell_type": "code",
   "execution_count": null,
   "id": "0a2ea14c",
   "metadata": {},
   "outputs": [],
   "source": [
    "import pandas as pd\n",
    "df2 = pd.read_csv(r'C:\\Users\\Acer\\Desktop\\group_project302\\collected_covid_daily_cases.csv')\n",
    "df2.head()\n",
    "print(df2)"
   ]
  },
  {
   "cell_type": "code",
   "execution_count": null,
   "id": "3e91ae60",
   "metadata": {},
   "outputs": [],
   "source": [
    "print(df2.shape)"
   ]
  },
  {
   "cell_type": "code",
   "execution_count": null,
   "id": "6b862aa2",
   "metadata": {},
   "outputs": [],
   "source": [
    "print(df2.dtypes)"
   ]
  },
  {
   "cell_type": "code",
   "execution_count": null,
   "id": "a8b0299d",
   "metadata": {},
   "outputs": [],
   "source": [
    "print(df2.describe())"
   ]
  },
  {
   "cell_type": "code",
   "execution_count": null,
   "id": "a33b39cd",
   "metadata": {},
   "outputs": [],
   "source": [
    "missing_data = df2.isnull().mean()*100\n",
    "missing_data.sort_values(ascending=False)"
   ]
  },
  {
   "cell_type": "code",
   "execution_count": null,
   "id": "309520e3",
   "metadata": {},
   "outputs": [],
   "source": [
    "import altair as alt\n",
    "\n",
    "alt.Chart(df2).mark_bar().encode(\n",
    "    x = 'date',\n",
    "    y = 'malaysia_cases_new',\n",
    "    tooltip=['date','holiday','malaysia_cases_new'],\n",
    "    color='holiday'\n",
    ").properties(width=1000)"
   ]
  },
  {
   "cell_type": "code",
   "execution_count": null,
   "id": "4a4124df",
   "metadata": {},
   "outputs": [],
   "source": [
    "print(\"hello world\")"
   ]
  },
  {
   "cell_type": "code",
   "execution_count": null,
   "id": "0ab31d4c",
   "metadata": {},
   "outputs": [],
   "source": []
  }
 ],
 "metadata": {
  "kernelspec": {
   "display_name": "Python 3 (ipykernel)",
   "language": "python",
   "name": "python3"
  },
  "language_info": {
   "codemirror_mode": {
    "name": "ipython",
    "version": 3
   },
   "file_extension": ".py",
   "mimetype": "text/x-python",
   "name": "python",
   "nbconvert_exporter": "python",
   "pygments_lexer": "ipython3",
   "version": "3.9.13"
  }
 },
 "nbformat": 4,
 "nbformat_minor": 5
}
